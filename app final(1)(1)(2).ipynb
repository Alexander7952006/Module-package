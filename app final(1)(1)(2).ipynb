{
 "cells": [
  {
   "cell_type": "code",
   "execution_count": 59,
   "id": "a993b81b-c731-41ae-85ba-9ae5ff5a9ee2",
   "metadata": {},
   "outputs": [],
   "source": [
    "Практикум по программированию"
   ]
  },
  {
   "cell_type": "code",
   "execution_count": null,
   "id": "0ad87443-5139-424f-9cd6-19583f9c27c8",
   "metadata": {},
   "outputs": [],
   "source": [
    "3 задание"
   ]
  },
  {
   "cell_type": "code",
   "execution_count": null,
   "id": "3db5ce03-c746-409e-8c74-7deacf18e3bf",
   "metadata": {},
   "outputs": [],
   "source": [
    "Третьяк Александр Олегович"
   ]
  },
  {
   "cell_type": "code",
   "execution_count": null,
   "id": "8876c7ea-010d-4e8c-af4e-44db281a79f1",
   "metadata": {},
   "outputs": [],
   "source": [
    "ТРПО24-3"
   ]
  },
  {
   "cell_type": "code",
   "execution_count": null,
   "id": "c59b36c8-7fe5-453d-99ef-62d2e829d7aa",
   "metadata": {},
   "outputs": [],
   "source": [
    "Базовая часть:\n",
    "На базе модулей: csv, pickle и прямой работы с файлами реализовать следующий базовый функционал:\n",
    "1.\tфункций load_table, save_table по загрузке/сохранению табличных данных во внутреннее представление модуля/из внутреннего представления модуля:\n",
    "o\tфайла формата csv (отдельный модуль с load_table, save_table в рамках общего пакета)\n",
    "o\tфайла формата pickle (отдельный модуль с load_table, save_table в рамках общего пакета), модуль использует структуру данных для представления таблицу, удобную автору работы.\n",
    "o\tтекстового файла (только функция save_table сохраняющая в текстовом файле представление таблицы, аналогичное выводу на печать с помощью функции print_table()).\n",
    "Примечание: внутреннее представление может базироваться на словаре, где по разным ключам хранятся ключевые «атрибуты» таблицы, а значения таблицы хранятся в виде вложенных списков. Студент может выбрать другое внутреннее представление таблицы (согласовав его с преподавателем), в том числе, студенты знакомые с ООП на Python, могут реализовать собственный класс для таблицы.\n",
    "При определении api модулей максимально полно использовать возможности сигнатур функций на Python (значения по умолчанию, запаковка/распаковка, в т.ч. именованных параметров, возвращение множественных значений), интенсивно выполнять проверки и возбуждать исключительные ситуации.\n",
    "2.\tмодуля с базовыми операциями над таблицами:\n",
    "o\tget_rows_by_number(start, [stop], copy_table=False) – получение таблицы из одной строки или из строк из интервала по номеру строки. Функция либо копирует исходные данные, либо создает новое представление таблицы, работающее с исходным набором данных (copy_table=False), таким образом изменения, внесенные через это представления будут наблюдаться и в исходной таблице.\n",
    "o\tget_rows_by_index(val1, … , copy_table=False) – получение новой таблицы из одной строки или из строк со значениями в первом столбце, совпадающими с переданными аргументами val1, … , valN. Функция либо копирует исходные данные, либо создает новое представление таблицы, работающее с исходным набором данных (copy_table=False), таким образом изменения, внесенные через это представления будут наблюдаться и в исходной таблице.\n",
    "o\tget_column_types(by_number=True) – получение словаря вида столбец:тип_значений. Тип значения: int, float, bool, str (по умолчанию для всех столбцов). Параметр by_number определяет вид значения столбец – целочисленный индекс столбца или его строковое представление.\n",
    "o\tset_column_types(types_dict, by_number=True) – задание словаря вида столбец:тип_значений. Тип значения: int, float, bool, str (по умолчанию для всех столбцов). Параметр by_number определяет вид значения столбец – целочисленный индекс столбца или его строковое представление.\n",
    "o\tget_values(column=0) – получение списка значений (типизированных согласно типу столбца) таблицы из столбца либо по номеру столбца (целое число, значение по умолчанию 0, либо по имени столбца)\n",
    "o\tget_value(column=0) – аналог get_values(column=0) для представления таблицы с одной строкой, возвращает не список, а одно значение (типизированное согласно типу столбца).\n",
    "o\tset_values(values, column=0) – задание списка значений values для столбца таблицы (типизированных согласно типу столбца) либо по номеру столбца (целое число, значение по умолчанию 0, либо по имени столбца).\n",
    "o\tset_value(column=0) – аналог set_values(value, column=0) для представления таблицы с одной строкой, устанавливает не список значений, а одно значение (типизированное согласно типу столбца).\n",
    "o\tprint_table() – вывод таблицы на печать.\n",
    "3.\tДля каждой функции должно быть реализована генерация не менее одного вида исключительных ситуаций. \n"
   ]
  },
  {
   "cell_type": "code",
   "execution_count": 1,
   "id": "33615a2c-89de-494a-870f-ad9ddc451e75",
   "metadata": {},
   "outputs": [],
   "source": [
    "import csv\n",
    "\n",
    "\n",
    "import pickle\n",
    "\n",
    "\n",
    "def load_table(file_type, file_name):\n",
    "    \"\"\"\n",
    "    Создает внутреннее представление таблицы.\n",
    "    \n",
    "    Args:\n",
    "        file_type(str): тип файла, который хотите загрузить(csv, pickle или txt)\n",
    "        name(str): название файла, который хотите загрузить, или полный путь к нему !С обязательным указанием расширения!\n",
    "        \n",
    "    Returns:\n",
    "        list: Внутреннее представление таблицы(список списков)\n",
    "        str: Имя файла, который загружали\n",
    "        str: Тип файла, который загружали\n",
    "    \"\"\"\n",
    "    try:\n",
    "        if file_type == 'csv':\n",
    "            with open(file_name, newline='') as file:\n",
    "                file_csv = csv.reader(file, delimiter=';')\n",
    "                rows = [_ for _ in file_csv]\n",
    "        elif file_type == 'pickle':\n",
    "             with open(file_name, 'rb') as file:\n",
    "                rows = pickle.load(file)\n",
    "        else:\n",
    "            raise Exception('Неправильно введен тип файла')\n",
    "    except FileNotFoundError:\n",
    "        print('Неправильно указан адрес файла или файл не существует')\n",
    "        return\n",
    "    except PermissionError:\n",
    "        print('Необходимо указать путь к файлу, а не к папке')\n",
    "        return\n",
    "    else:\n",
    "        return rows, file_name, file_type\n",
    "        "
   ]
  },
  {
   "cell_type": "code",
   "execution_count": 2,
   "id": "2b3bc0ec-aec5-439f-a1cb-b66ea82e115d",
   "metadata": {},
   "outputs": [],
   "source": [
    "import csv\n",
    "\n",
    "\n",
    "import pickle\n",
    "\n",
    "\n",
    "def save_table(file_type, rows, name):\n",
    "    \"\"\"\n",
    "    Сохраняет внутреннее представления таблицы в файл.\n",
    "    \n",
    "    Args:\n",
    "        file_type(str): тип файла, который хотите создать(csv, pickle или txt)\n",
    "        rows(list): внутреннее представления модуля(список списков)\n",
    "        name(str): название файла, который хотите создать, или полный путь к нему !С обязательным указанием расширения!\n",
    "        \n",
    "    Returns:\n",
    "        Ничего не возвращает, только изменяет и создает файлы\n",
    "    \"\"\"\n",
    "    try:\n",
    "        if file_type == 'csv':\n",
    "            with open(name, 'w', newline='') as file:\n",
    "                file_csv = csv.writer(file, delimiter=';')\n",
    "                for row in rows:\n",
    "                    file_csv.writerow(row)\n",
    "        elif file_type == 'pickle':\n",
    "            with open(name, 'wb') as file:\n",
    "                pickle.dump(rows, file)\n",
    "        elif file_type == 'txt':\n",
    "            res_str = ''\n",
    "            len_set = set()\n",
    "            for row in rows:\n",
    "                for el in row:\n",
    "                    len_set.add(len(el))\n",
    "            try:\n",
    "                for row in rows:\n",
    "                    for indx in range(len(row)):\n",
    "                        while len(row[indx]) != max(len_set):\n",
    "                            row[indx] += ' '\n",
    "            except ValueError:\n",
    "                return 'Вы подали на вход пустой файл'\n",
    "            for row in rows:\n",
    "                for el in row:\n",
    "                    res_str += el + ' '\n",
    "                res_str += '\\n'\n",
    "            with open(name, 'w') as file:\n",
    "                file.writelines(res_str)\n",
    "        else:\n",
    "            raise Exception('Неправильно введен тип файла')\n",
    "    except PermissionError:\n",
    "        print('Файл открыт, его нельзя изменить')\n",
    "        return\n"
   ]
  },
  {
   "cell_type": "code",
   "execution_count": 12,
   "id": "a6d58f28-9cf7-4664-a18e-f0df3b080673",
   "metadata": {},
   "outputs": [
    {
     "name": "stdin",
     "output_type": "stream",
     "text": [
      "Введите тип файла, который хотите загрузить:  csv\n",
      "Введите адрес хранения файла:  C:\\\\Users\\\\Alex\\\\Desktop\\\\Файлы проект\\\\fff.csv\n",
      "Введите тип файла, который хотите создать csv\n",
      "Введите адрес директории, куда хотите сохранить файл:  C:\\\\Users\\\\Alex\\\\Desktop\\\\Файлы проект\\\\fffn.csv\n"
     ]
    }
   ],
   "source": [
    "def get_rows_by_number(start, stop, copy_table=False):\n",
    "    \n",
    "    \"\"\"\n",
    "    Получение таблицы из одной строки или из строк из интервала по номеру строки. \n",
    "    \n",
    "    Args:\n",
    "        start(int): левая граница интревала\n",
    "        stop(int): правая граница интревала\n",
    "        copy_table(bool): если False, то изменения отобразятся в исходном файле. В противном случае исходный файл не изменится\n",
    "        \n",
    "    Returns:\n",
    "        Ничего не возвращает, только изменяет и создает файлы\n",
    "    \"\"\"\n",
    "    rows, file_name, file_type = load_table(input('Введите тип файла, который хотите загрузить: '), input('Введите адрес хранения файла: '))\n",
    "    if start < 1 or stop > len(rows):\n",
    "        raise Exception('Ошибка, использование значения start/stop с таким номером невозможно')\n",
    "    try:\n",
    "        if stop is False:\n",
    "            if copy_table is False:\n",
    "                save_table(input('Введите тип файла, который хотите создать'), [rows[start - 1]],\n",
    "                           input('Введите адрес директории, куда хотите сохранить файл: '))\n",
    "                save_table(file_type, [rows[start - 1]], file_name)\n",
    "            else:\n",
    "                save_table(input('Введите тип файла, который хотите создать'), [rows[start - 1]],\n",
    "                           input('Введите адрес директории, куда хотите сохранить файл: '))\n",
    "        else:\n",
    "            if copy_table is False:\n",
    "                save_table(input('Введите тип файла, который хотите создать'), rows[start: stop - 1],\n",
    "                           input('Введите адрес директории, куда хотите сохранить файл: '))\n",
    "                save_table(file_type, rows[start: stop - 1], file_name)\n",
    "            else:\n",
    "                save_table(input('Введите тип файла, который хотите создать'), rows[start: stop - 1],\n",
    "                           input('Введите адрес директории, куда хотите сохранить файл: '))\n",
    "    except IndexError:\n",
    "        print('Нет элемента с таким индексом')\n",
    "        return\n",
    "get_rows_by_number(1, 3)"
   ]
  },
  {
   "cell_type": "code",
   "execution_count": 11,
   "id": "4752c653-f69e-48db-8044-f85a3b154ecf",
   "metadata": {},
   "outputs": [
    {
     "name": "stdin",
     "output_type": "stream",
     "text": [
      "Введите тип файла, который хотите загрузить:  csv\n",
      "Введите адрес хранения файла:  C:\\Users\\Alex\\Desktop\\Файлы проект\\file.csv\n"
     ]
    },
    {
     "data": {
      "text/plain": [
       "[[5, 'пампап', 'ЛОЖЬ', 3.0],\n",
       " [5, 'пампап', 'ЛОЖЬ', 3.0],\n",
       " [5, 'пампап', 'ЛОЖЬ', 3.0],\n",
       " [5, 'пампап', 'ЛОЖЬ', 3.0],\n",
       " [5, 'пампап', 'ЛОЖЬ', 3.0],\n",
       " [5, 'пампап', 'ЛОЖЬ', 3.0],\n",
       " [5, 'пампап', 'ЛОЖЬ', 3.0]]"
      ]
     },
     "execution_count": 11,
     "metadata": {},
     "output_type": "execute_result"
    }
   ],
   "source": [
    "def get_rows_by_index(*values, copy_table=False):\n",
    "    \"\"\"\n",
    "    Получение новой таблицы из одной строки или из строк со значениями в первом столбце,\n",
    "    совпадающими с переданными аргументами val1, … , valN.\n",
    "    \n",
    "    Args:\n",
    "        *values(int, str, bool, float): значения, с которыми будет осуществляться проверка совпадений\n",
    "        copy_table(bool): если False, то изменения отобразятся в исходном файле. В противном случае исходный файл не изменится\n",
    "        \n",
    "    Returns:\n",
    "        Ничего не возвращает, только изменяет и создает файлы\n",
    "    \"\"\"\n",
    "    rows, file_name, file_type = load_table(input('Введите тип файла, который хотите загрузить: '), input('Введите адрес хранения файла: '))\n",
    "    result = []\n",
    "    vals = [val for val in values]\n",
    "    for indx1, row in enumerate(rows):\n",
    "        for indx2, el in enumerate(row):\n",
    "            if el == 'ИСТИНА':\n",
    "                rows[indx1][indx2] = True\n",
    "            elif el == 'ЛОЖЬ':\n",
    "                rows[indx1][indx2] = False\n",
    "            else:\n",
    "                try:\n",
    "                    rows[indx1][indx2] = int(rows[indx1][indx2])\n",
    "                except ValueError:\n",
    "                    try:\n",
    "                        rows[indx1][indx2] = float(rows[indx1][indx2])\n",
    "                    except ValueError:\n",
    "                        pass              \n",
    "    for row in rows:\n",
    "        if row[0] in vals:\n",
    "            result.append(row)\n",
    "    for indx1 in range(len(result)):\n",
    "        for indx2 in range(len(result[indx1])):\n",
    "            if result[indx1][indx2] == True:\n",
    "                result[indx1][indx2] = 'ИСТИНА'\n",
    "            elif result[indx1][indx2] == False:\n",
    "                result[indx1][indx2] = 'ЛОЖЬ'\n",
    "        \n",
    "    if copy_table is False:\n",
    "        save_table(input('Введите тип файла, который хотите создать'), result, input('Введите адрес директории, куда хотите сохранить файл: '))\n",
    "        save_table(file_type, result, file_name)\n",
    "    else:\n",
    "        save_table(input('Введите тип файла, который хотите создать'), result, input('Введите адрес директории, куда хотите сохранить файл: '))\n"
   ]
  },
  {
   "cell_type": "code",
   "execution_count": 14,
   "id": "9ad3a7b2-c7da-4af5-aa64-18bd7b3c17ad",
   "metadata": {},
   "outputs": [
    {
     "name": "stdin",
     "output_type": "stream",
     "text": [
      "Введите тип файла, который хотите загрузить:  csv\n",
      "Введите адрес хранения файла:  C:\\Users\\Alex\\Desktop\\Файлы проект\\file.csv\n"
     ]
    },
    {
     "data": {
      "text/plain": [
       "{'5': int, 'пампап': str, 'ЛОЖЬ': bool, '3.0': float}"
      ]
     },
     "execution_count": 14,
     "metadata": {},
     "output_type": "execute_result"
    }
   ],
   "source": [
    "def get_column_types(by_number=True):\n",
    "    \"\"\"\n",
    "    Получение словаря вида столбец:тип_значений. Тип значения: int, float, bool, str (по умолчанию для всех столбцов). \n",
    "    \n",
    "    Args:\n",
    "        by_number(bool): Если True, то ключи в словарях - индекс столбцов, иначе - их строковые представления\n",
    "        \n",
    "    Returns:\n",
    "        dict: словарь вида столбец: тип_значений.\n",
    "    \"\"\"\n",
    "    rows = load_table(input('Введите тип файла, который хотите загрузить: '), input('Введите адрес хранения файла: '))[0]\n",
    "    dct = {}\n",
    "    columns = []\n",
    "    for indx in range(len(rows[0])):\n",
    "        column = []\n",
    "        for row in rows:\n",
    "            column.append(row[indx])\n",
    "        columns.append(column)\n",
    "    for indx, column in enumerate(columns):\n",
    "        if by_number is False:\n",
    "            indx = column[0]\n",
    "        if column[0] == 'ИСТИНА' or column[0] == 'ЛОЖЬ':\n",
    "            dct[indx] = bool\n",
    "            continue\n",
    "        try:\n",
    "            crutch = int(column[1])\n",
    "            dct[indx] = int\n",
    "        except ValueError:\n",
    "            try:\n",
    "                crutch = float(column[1])\n",
    "                dct[indx] = float\n",
    "            except ValueError:\n",
    "                dct[indx] = str\n",
    "    return dct\n"
   ]
  },
  {
   "cell_type": "code",
   "execution_count": 9,
   "id": "dc477724-2533-4f1d-9c48-f101c438018c",
   "metadata": {},
   "outputs": [
    {
     "name": "stdin",
     "output_type": "stream",
     "text": [
      "Введите тип файла, который хотите загрузить:  csv\n",
      "Введите адрес хранения файла:  C:\\Users\\Alex\\Desktop\\Файлы проект\\file.csv\n"
     ]
    },
    {
     "data": {
      "text/plain": [
       "[[1, 1, 1, 1], ['пампап', 'пампап', 'пампап', 'пампап'], [0.0, 0.0, 0.0, 0.0]]"
      ]
     },
     "execution_count": 9,
     "metadata": {},
     "output_type": "execute_result"
    }
   ],
   "source": [
    "def set_column_types(types_dict, by_number=True):\n",
    "    \"\"\"\n",
    "    Задание словаря вида столбец:тип_значений. Тип значения: int, float, bool, str (по умолчанию для всех столбцов). \n",
    "    \n",
    "    Args:\n",
    "        types_dict(dict): словарь\n",
    "        by_number(bool): Если True, то ключи в словарях - индекс столбцов, иначе - их строковые представления\n",
    "        \n",
    "    Returns:\n",
    "        Ничего не возвращает, только изменяет файл.\n",
    "    \"\"\"\n",
    "    rows, file_name, file_type = load_table(input('Введите тип файла, который хотите загрузить: '), input('Введите адрес хранения файла: '))\n",
    "    res_rows = []\n",
    "    res_columns = []\n",
    "    columns = []\n",
    "    for indx in range(len(rows[0])):\n",
    "        column = []\n",
    "        for row in rows:\n",
    "            column.append(row[indx])\n",
    "        columns.append(column)\n",
    "    if by_number is True:\n",
    "        dct = {indx: el for indx, el in enumerate(columns)}\n",
    "    else:\n",
    "        dct = {el[0]: el for el in columns}\n",
    "\n",
    "    try:\n",
    "        for key, value in types_dict.items():\n",
    "            column = []\n",
    "            for el in dct[key]:\n",
    "                if el == 'ИСТИНА':\n",
    "                    el = True\n",
    "                elif el == 'ЛОЖЬ':\n",
    "                    el = False\n",
    "                else:\n",
    "                    try:\n",
    "                        el = int(el)\n",
    "                    except ValueError:\n",
    "                        try:\n",
    "                            el = float(el)\n",
    "                        except ValueError:\n",
    "                            pass\n",
    "                column.append(value(el))\n",
    "            res_columns.append(column)\n",
    "    except KeyError:\n",
    "        print('В таблице нет столбца с таким названием/индексом')\n",
    "        return\n",
    "    except ValueError:\n",
    "        print('Ошибка! Нельзя конвертировать значение в указанный тип данных')\n",
    "        return\n",
    "    for indx in range(len(res_columns[0])):\n",
    "        row = []\n",
    "        for column in res_columns:\n",
    "            if column[indx] is True:\n",
    "                row.append('ИСТИНА')\n",
    "            elif column[indx] is False:\n",
    "                row.append('ЛОЖЬ')\n",
    "            else:\n",
    "                row.append(str(column[indx]))\n",
    "        res_rows.append(row)\n",
    "    save_table(file_type, res_rows, file_name)\n"
   ]
  },
  {
   "cell_type": "code",
   "execution_count": 11,
   "id": "f3997c7d-502c-46f5-9815-bb8b8cdbbfff",
   "metadata": {},
   "outputs": [
    {
     "name": "stdin",
     "output_type": "stream",
     "text": [
      "Введите тип файла, который хотите загрузить:  csv\n",
      "Введите адрес хранения файла:  C:\\Users\\Alex\\Desktop\\Файлы проект\\file.csv\n"
     ]
    },
    {
     "data": {
      "text/plain": [
       "[True, True, True, True]"
      ]
     },
     "execution_count": 11,
     "metadata": {},
     "output_type": "execute_result"
    }
   ],
   "source": [
    "def get_values(column=0):\n",
    "    \"\"\"\n",
    "    Получение списка значений (типизированных согласно типу столбца).\n",
    "    \n",
    "    Args:\n",
    "        column(int, str): либо номер столбца, либо его строковое представление\n",
    "        \n",
    "    Returns:\n",
    "        list: столбец в виде списка\n",
    "    \"\"\"\n",
    "    if type(column) == int:\n",
    "        if column < 1:\n",
    "            raise Exception('Столбца с таким номером не существует')\n",
    "    rows = load_table(input('Введите тип файла, который хотите загрузить: '), input('Введите адрес хранения файла: '))[0]\n",
    "    dct = {}\n",
    "    value_dct = {}\n",
    "    columns = []\n",
    "    for indx in range(len(rows[0])):\n",
    "        col = []\n",
    "        for row in rows:\n",
    "            col.append(row[indx])\n",
    "        columns.append(col)\n",
    "    for indx, col in enumerate(columns):\n",
    "        if type(column) != int:\n",
    "            indx = col[0]\n",
    "        else:\n",
    "            indx += 1\n",
    "        if col[0] == 'ИСТИНА' or col[0] == 'ЛОЖЬ':\n",
    "            dct[indx] = bool\n",
    "            continue\n",
    "        try:\n",
    "            crutch = int(col[0])  # ну тут соминительно(является ли заголовок столбца его первой строккой?)\n",
    "            dct[indx] = int\n",
    "        except ValueError:\n",
    "            try:\n",
    "                crutch = float(col[0])  # ну тут соминительно(является ли заголовок столбца его первой строккой?)\n",
    "                dct[indx] = float\n",
    "            except ValueError:\n",
    "                dct[indx] = str\n",
    "    iteration = 0\n",
    "    for key, value in dct.items():\n",
    "        lst = []\n",
    "        for el in columns[iteration]:\n",
    "            if el == 'ИСТИНА':\n",
    "                lst.append(True)\n",
    "            elif el == 'ЛОЖЬ':\n",
    "                lst.append(False)\n",
    "            else:\n",
    "                try:\n",
    "                    lst.append(int(el))\n",
    "                except ValueError:\n",
    "                    try:\n",
    "                        lst.append(float(el))\n",
    "                    except ValueError:\n",
    "                            lst.append(el)\n",
    "        value_dct[key] = [value(el) for el in lst]\n",
    "        iteration += 1\n",
    "    try:\n",
    "        return value_dct[column]\n",
    "    except KeyError:\n",
    "        print('Столбца с таким индексом/названием не существует')\n",
    "        return\n"
   ]
  },
  {
   "cell_type": "code",
   "execution_count": 32,
   "id": "1f0e98f1-577b-4f26-a02d-b3fdb0ad4e1f",
   "metadata": {},
   "outputs": [
    {
     "name": "stdin",
     "output_type": "stream",
     "text": [
      "Введите тип файла, который хотите загрузить:  csv\n",
      "Введите адрес хранения файла:  C:\\Users\\Alex\\Desktop\\Файлы проект\\file.csv\n"
     ]
    },
    {
     "data": {
      "text/plain": [
       "True"
      ]
     },
     "execution_count": 32,
     "metadata": {},
     "output_type": "execute_result"
    }
   ],
   "source": [
    "def get_value(column=0):\n",
    "     \"\"\"\n",
    "    Аналог get_values(column=0) для представления таблицы с одной строкой\n",
    "    \n",
    "    Args:\n",
    "        column(int, str): либо номер столбца, либо его строковое представление\n",
    "        \n",
    "    Returns:\n",
    "        list: значение, которое надо было получить, типизованное согласно типу столбца\n",
    "    \"\"\"\n",
    "    if type(column) == int and column < 1:\n",
    "        raise Exception('Столбца с таким номером не существует')\n",
    "    rows = load_table(input('Введите тип файла, который хотите загрузить: '), input('Введите адрес хранения файла: '))[0]\n",
    "    if len(rows) != 1:\n",
    "        raise Exception('Ошибка, в таблице не одна строка!')\n",
    "    dct = {}\n",
    "    for indx, el in enumerate(rows[0]):\n",
    "        if type(column) != int:\n",
    "            indx = el\n",
    "        else:\n",
    "            indx += 1\n",
    "        if el == 'ИСТИНА':\n",
    "            dct[indx] = True\n",
    "        elif el == 'ЛОЖЬ':\n",
    "            dct[indx] = False\n",
    "        else:\n",
    "            try:\n",
    "                dct[indx] = int(el)\n",
    "            except ValueError:\n",
    "                    try:\n",
    "                        dct[indx] = float(el)\n",
    "                    except ValueError:\n",
    "                        dct[indx] = el\n",
    "    try:\n",
    "        return dct[column]\n",
    "    except KeyError:\n",
    "        print('Столбца с таким индексом/названием не существует')\n",
    "        return\n",
    "\n",
    "\n"
   ]
  },
  {
   "cell_type": "code",
   "execution_count": 12,
   "id": "19a44e37-18ff-4225-a702-1bd2631525f1",
   "metadata": {},
   "outputs": [
    {
     "name": "stdin",
     "output_type": "stream",
     "text": [
      "Введите тип файла, который хотите загрузить:  csv\n",
      "Введите адрес хранения файла:  C:\\Users\\Alex\\Desktop\\Файлы проект\\file.csv\n"
     ]
    },
    {
     "data": {
      "text/plain": [
       "{1: bool, 2: str, 3: int}"
      ]
     },
     "execution_count": 12,
     "metadata": {},
     "output_type": "execute_result"
    }
   ],
   "source": [
    "def set_values(values, column=0):\n",
    "    \"\"\"\n",
    "    Задание списка значений values для столбца таблицы (типизированных согласно типу столбца)\n",
    "    \n",
    "    Args:\n",
    "        values(list): список значений для столбца таблицы\n",
    "        column(int, str): либо номер столбца, либо его строковое представление\n",
    "        \n",
    "    Returns:\n",
    "        Ничего не возвращает, только изменяет файл.\n",
    "    \"\"\"\n",
    "    dct = {}\n",
    "    types_dct = {}\n",
    "    if type(column) == int:\n",
    "        if column < 1:\n",
    "            raise Exception('Cтолбца с таким номером не существует')\n",
    "    rows, file_name, file_type = load_table(input('Введите тип файла, который хотите загрузить: '), input('Введите адрес хранения файла: '))\n",
    "    columns = []\n",
    "    res_rows = []\n",
    "    for indx in range(len(rows[0])):\n",
    "        col = []\n",
    "        for row in rows:\n",
    "            col.append(row[indx])\n",
    "        columns.append(col)\n",
    "    for indx, col in enumerate(columns):\n",
    "        if type(column) != int:\n",
    "            indx = col[0]\n",
    "        else:\n",
    "            indx += 1\n",
    "        dct[indx] = col\n",
    "    for key, value in dct.items():\n",
    "        el = value[0]\n",
    "        if el == 'ИСТИНА' or el == 'ЛОЖЬ':\n",
    "            types_dct[key] = bool\n",
    "        else:\n",
    "            try:\n",
    "                crutch = int(el)\n",
    "                types_dct[key] = int\n",
    "            except ValueError:\n",
    "                    try:\n",
    "                        crutch = float(el)\n",
    "                        types_dct[key] = float\n",
    "                    except ValueError:\n",
    "                        types_dct[key] = str\n",
    "                        \n",
    "    try:\n",
    "        if len(dct[column]) != len(values):\n",
    "            print('Кол-во значений в задаваемом столбце не соответcтвует размеру таблицы')\n",
    "            return\n",
    "    except KeyError:\n",
    "        print('Столбца с таким индексом/названием не существует')\n",
    "        return\n",
    "    else:\n",
    "        typ = types_dct[column]\n",
    "        try:\n",
    "            values = [typ(el) for el in values]\n",
    "        except ValueError:\n",
    "            print('Вы ввели данные, которые нельзя типизировать')\n",
    "            return\n",
    "        for indx in range(len(values)):\n",
    "            if values[indx] is True:\n",
    "                values[indx] = 'ИСТИНА'\n",
    "            elif values[indx] is False:\n",
    "                values[indx] = 'ЛОЖЬ'\n",
    "        dct[column] = values\n",
    "    res_columns = [value for value in dct.values()]\n",
    "    for indx in range(len(res_columns[0])):\n",
    "        row = []\n",
    "        for col in res_columns:\n",
    "            row.append(str(col[indx]))\n",
    "        res_rows.append(row)\n",
    "    save_table(file_type, res_rows, file_name)\n",
    "\n",
    "set_values([2, 2, 3, 0], 1)\n"
   ]
  },
  {
   "cell_type": "code",
   "execution_count": 14,
   "id": "7814b6d9-63a5-4817-9de6-328b5dc69ee8",
   "metadata": {},
   "outputs": [
    {
     "name": "stdin",
     "output_type": "stream",
     "text": [
      "Введите тип файла, который хотите загрузить:  csv\n",
      "Введите адрес хранения файла:  C:\\Users\\Alex\\Desktop\\Файлы проект\\file.csv\n"
     ]
    },
    {
     "data": {
      "text/plain": [
       "{1: bool, 2: str, 3: int}"
      ]
     },
     "execution_count": 14,
     "metadata": {},
     "output_type": "execute_result"
    }
   ],
   "source": [
    "def set_value(value, column=0):\n",
    "    \"\"\"\n",
    "    Aналог set_values(value, column=0) для представления таблицы с одной строкой\n",
    "    \n",
    "    Args:\n",
    "        value(int, str, bool, float): одно значение (типизированное согласно типу столбца).\n",
    "        column(int, str): либо номер столбца, либо его строковое представление\n",
    "        \n",
    "    Returns:\n",
    "        Ничего не возвращает, только изменяет файл.\n",
    "    \"\"\"\n",
    "    if type(value) != int and type(value) != float and type(value) != bool and type(value) != str:\n",
    "        raise Exception('Тип введенного value не соответствует требованиям')\n",
    "    dct = {}\n",
    "    types_dct = {}\n",
    "    if type(column) == int:\n",
    "        if column < 1:\n",
    "            raise Exception('столбца с таким номером не существует')\n",
    "    rows, file_name, file_type = load_table(input('Введите тип файла, который хотите загрузить: '), input('Введите адрес хранения файла: '))\n",
    "    if len(rows) != 1:\n",
    "        raise Exception('В таблице не одна строка, ошибка')\n",
    "    for indx, col in enumerate(rows[0]):\n",
    "        if type(column) != int:\n",
    "            indx = col\n",
    "        else:\n",
    "            indx += 1\n",
    "        dct[indx] = col\n",
    "    for key, val in dct.items():\n",
    "        el = val\n",
    "        if el == 'ИСТИНА' or el == 'ЛОЖЬ':\n",
    "            types_dct[key] = bool\n",
    "        else:\n",
    "            try:\n",
    "                crutch = int(el)\n",
    "                types_dct[key] = int\n",
    "            except ValueError:\n",
    "                    try:\n",
    "                        crutch = float(el)\n",
    "                        types_dct[key] = float\n",
    "                    except ValueError:\n",
    "                        types_dct[key] = str\n",
    "    if column not in dct:\n",
    "        raise KeyError('Столбца с таким индексом/названием не существует')\n",
    "    typ = types_dct[column]\n",
    "    value = typ(value)\n",
    "    if value is True:\n",
    "        value = 'ИСТИНА'\n",
    "    elif value is False:\n",
    "        value = 'ЛОЖЬ'\n",
    "    dct[column] = value\n",
    "    res_columns = [str(value) for value in dct.values()]\n",
    "    save_table(file_type, [res_columns], file_name) \n"
   ]
  },
  {
   "cell_type": "code",
   "execution_count": 56,
   "id": "77e7b6aa-15f6-4c37-8b88-6a5b2260e8b0",
   "metadata": {},
   "outputs": [
    {
     "name": "stdin",
     "output_type": "stream",
     "text": [
      "Введите тип файла, который хотите загрузить:  csv\n",
      "Введите адрес хранения файла:  C:\\Users\\Alex\\Desktop\\Файлы проект\\file.csv\n"
     ]
    },
    {
     "name": "stdout",
     "output_type": "stream",
     "text": [
      "ИСТИНА пампап 0      \n",
      "ИСТИНА пампап 0      \n",
      "ИСТИНА пампап 0      \n",
      "ИСТИНА пампап 0      \n",
      "\n"
     ]
    }
   ],
   "source": [
    "def print_table():\n",
    "    \"\"\"\n",
    "    Aналог set_values(value, column=0) для представления таблицы с одной строкой\n",
    "    \n",
    "    Args:\n",
    "        не принимает переменных\n",
    "        \n",
    "    Returns:\n",
    "        Ничего не возвращает, но выводит таблицу на печать\n",
    "    \"\"\"\n",
    "    res_str = ''\n",
    "    rows = load_table(input('Введите тип файла, который хотите загрузить: '), input('Введите адрес хранения файла: '))[0]\n",
    "    len_set = set()\n",
    "    for row in rows:\n",
    "        for el in row:\n",
    "            len_set.add(len(el))\n",
    "    try:\n",
    "        for row in rows:\n",
    "            for indx in range(len(row)):\n",
    "                while len(row[indx]) != max(len_set):\n",
    "                    row[indx] += ' '\n",
    "    except ValueError:\n",
    "        print('Вы подали на вход пустой файл')\n",
    "        return+\n",
    "    for row in rows:\n",
    "        for el in row:\n",
    "            res_str += el + ' '\n",
    "        res_str += '\\n'\n",
    "    print(res_str)\n",
    "\n"
   ]
  }
 ],
 "metadata": {
  "kernelspec": {
   "display_name": "Python 3 (ipykernel)",
   "language": "python",
   "name": "python3"
  },
  "language_info": {
   "codemirror_mode": {
    "name": "ipython",
    "version": 3
   },
   "file_extension": ".py",
   "mimetype": "text/x-python",
   "name": "python",
   "nbconvert_exporter": "python",
   "pygments_lexer": "ipython3",
   "version": "3.10.6"
  }
 },
 "nbformat": 4,
 "nbformat_minor": 5
}
